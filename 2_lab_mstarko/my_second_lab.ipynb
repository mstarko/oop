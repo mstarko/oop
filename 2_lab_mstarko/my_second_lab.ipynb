{
 "cells": [
  {
   "cell_type": "code",
   "execution_count": 1,
   "metadata": {},
   "outputs": [
    {
     "name": "stdout",
     "output_type": "stream",
     "text": [
      "Це стрічка!\n"
     ]
    }
   ],
   "source": [
    "a = \"Це стрічка!\"\n",
    "print(a)"
   ]
  },
  {
   "cell_type": "code",
   "execution_count": 2,
   "metadata": {},
   "outputs": [
    {
     "name": "stdout",
     "output_type": "stream",
     "text": [
      "Це стрічка! Це також стрічка \n",
      "Стрічка \n",
      "яка складається\n",
      "з багатьох рядків\n",
      "\n"
     ]
    }
   ],
   "source": [
    "b = 'Це також стрічка'\n",
    "c = '''\n",
    "Стрічка \n",
    "яка складається\n",
    "з багатьох рядків\n",
    "'''\n",
    "print(a, b, c)"
   ]
  },
  {
   "cell_type": "code",
   "execution_count": 3,
   "metadata": {},
   "outputs": [
    {
     "name": "stdout",
     "output_type": "stream",
     "text": [
      "<class 'str'>\n",
      "ЦЕ СТРІЧКА!\n"
     ]
    }
   ],
   "source": [
    "print(type(a))\n",
    "print(a.upper())"
   ]
  },
  {
   "cell_type": "code",
   "execution_count": 4,
   "metadata": {},
   "outputs": [
    {
     "name": "stdout",
     "output_type": "stream",
     "text": [
      "36\n",
      "Це зчеплення стрічок 33\n",
      "Це вже математична операція додавання чисел 6\n"
     ]
    }
   ],
   "source": [
    "a = \"3\"\n",
    "b = \"6\"\n",
    "print(a + b)\n",
    "c = 3 # це вже цифра\n",
    "print(\"Це зчеплення стрічок\", a + str(c))\n",
    "print(\"Це вже математична операція додавання чисел\", int(a) + c)"
   ]
  },
  {
   "cell_type": "code",
   "execution_count": 2,
   "metadata": {},
   "outputs": [
    {
     "name": "stdout",
     "output_type": "stream",
     "text": [
      "<class 'int'>\n",
      "<class 'float'>\n",
      "6 4.1\n",
      "20\n"
     ]
    }
   ],
   "source": [
    "i = 3\n",
    "print(type(i))\n",
    "j = 1.1\n",
    "print(type(j))\n",
    "print(3 + i, 3 + j)\n",
    "\n",
    "import sys\n",
    "i += 10000000000\n",
    "print(sys.getsizeof(i))"
   ]
  },
  {
   "cell_type": "code",
   "execution_count": 3,
   "metadata": {},
   "outputs": [
    {
     "name": "stdout",
     "output_type": "stream",
     "text": [
      "2.5 2 1\n",
      "9\n"
     ]
    }
   ],
   "source": [
    "print(5/2, 5//2, 5%2)\n",
    "print(3**2)"
   ]
  },
  {
   "cell_type": "code",
   "execution_count": 7,
   "metadata": {},
   "outputs": [
    {
     "name": "stdout",
     "output_type": "stream",
     "text": [
      "1 2 [1, 'Один']\n",
      "['Початок', 1, '1', 'Два', [1, 'Один'], 6]\n"
     ]
    }
   ],
   "source": [
    "l = [1, \"1\", 2, \"2\", \"Два\", [1, \"Один\"]]\n",
    "print(l[0], l[3], l[-1])\n",
    "\n",
    "l.append(6)\n",
    "l.insert(0, \"Початок\")\n",
    "\n",
    "l.remove(\"2\")\n",
    "l.pop(3)\n",
    "\n",
    "print(l)"
   ]
  },
  {
   "cell_type": "code",
   "execution_count": 8,
   "metadata": {},
   "outputs": [
    {
     "name": "stdout",
     "output_type": "stream",
     "text": [
      "Група студентів які здають роботи:  ['Ааа', 'Бббб', 'Cccc']\n",
      "Студенти які здали:  ['Ааа'] \n",
      "Студенти які залишились:  ['Бббб', 'Cccc']\n"
     ]
    }
   ],
   "source": [
    "s = [\"Ааа\", \"Бббб\", \"Cccc\"]\n",
    "print(\"Група студентів які здають роботи: \", s)\n",
    "\n",
    "s_pass = []\n",
    "\n",
    "s_pass.append(s.pop(0))\n",
    "\n",
    "print(\"Студенти які здали: \", s_pass, \"\\nСтуденти які залишились: \", s)"
   ]
  },
  {
   "cell_type": "code",
   "execution_count": 9,
   "metadata": {},
   "outputs": [
    {
     "name": "stdout",
     "output_type": "stream",
     "text": [
      "2 Богдан\n",
      "{'name': 'Програма', 'version': 1.2, 'author': 'Богдан'}\n",
      "{'name': 'Програма', 'version': 1.2, 'author': 'Богдан', 'date': datetime.datetime(2024, 10, 8, 14, 7, 27, 465788)}\n",
      "{'name': 'Програма', 'version': 1.3, 'date': datetime.datetime(2024, 10, 8, 14, 7, 27, 465788)}\n"
     ]
    }
   ],
   "source": [
    "d = {\"name\": 1, 1: \"Один\", \"2\": 2}\n",
    "\n",
    "j = {\n",
    "    \"name\": \"Програма\",\n",
    "    \"version\": 1.2,\n",
    "    \"author\": \"Bohdan\",\n",
    "    \"author\": \"Богдан\"\n",
    "}\n",
    "\n",
    "print(d[\"2\"], j[\"author\"])\n",
    "print(j)\n",
    "\n",
    "import datetime\n",
    "j[\"date\"] = datetime.datetime.now()\n",
    "print(j)\n",
    "j[\"version\"] = 1.3\n",
    "j.pop(\"author\")\n",
    "\n",
    "print(j)"
   ]
  },
  {
   "cell_type": "code",
   "execution_count": 10,
   "metadata": {},
   "outputs": [
    {
     "name": "stdout",
     "output_type": "stream",
     "text": [
      "2 Кількість двійок:  2\n",
      "А тепре кількість 2:  1\n"
     ]
    }
   ],
   "source": [
    "t = (2, \"2\", 6, 8, 2, 6)\n",
    "\n",
    "print(t[0], \"Кількість двійок: \", t.count(2))\n",
    "\n",
    "l = list(t)\n",
    "l.pop(0)\n",
    "print(\"А тепре кількість 2: \", l.count(2))"
   ]
  },
  {
   "cell_type": "code",
   "execution_count": 11,
   "metadata": {},
   "outputs": [
    {
     "name": "stdout",
     "output_type": "stream",
     "text": [
      "{'2', 8, 2, 6}\n",
      "{'2', 8, 2}\n"
     ]
    }
   ],
   "source": [
    "t = (2, \"2\", 6, 8, 2, 6)\n",
    "# знаходимо унікальні дані\n",
    "s = set(t)\n",
    "print(s)\n",
    "s.remove(6)\n",
    "print(s)"
   ]
  },
  {
   "cell_type": "code",
   "execution_count": 12,
   "metadata": {},
   "outputs": [
    {
     "name": "stdout",
     "output_type": "stream",
     "text": [
      "None\n",
      "Чому тут False\n"
     ]
    }
   ],
   "source": [
    "def my_fun():\n",
    "    return\n",
    "\n",
    "print(my_fun())\n",
    "\n",
    "true = False\n",
    "print(\"Чому тут\", true)\n",
    "\n",
    "#None = False # це видасть помилк"
   ]
  },
  {
   "cell_type": "code",
   "execution_count": 13,
   "metadata": {},
   "outputs": [
    {
     "name": "stdout",
     "output_type": "stream",
     "text": [
      "Ми хочемо вивести текст\n",
      "Ми хочемо вивести текст\n",
      "Ми хочемо вивести текст\n"
     ]
    }
   ],
   "source": [
    "print(\"Ми\", \"хочемо\", \"вивести\", \"текст\")\n",
    "s = \"Ми\" + \" \" + \"хочемо\" + \" \" + \"вивести\" + \" \" + \"текст\"\n",
    "print(s)\n",
    "\n",
    "a = \"Ми\"\n",
    "b = \"хочемо\"\n",
    "c = \"вивести\"\n",
    "d = \"текст\"\n",
    "print(f\"{a} {b} {c} {d}\")"
   ]
  },
  {
   "cell_type": "markdown",
   "metadata": {},
   "source": [
    "зробив запит до чатджпт :напиши мені програму на пайтоні яка використовує вбудовані константи та функції. і отримав дану відповідь"
   ]
  },
  {
   "cell_type": "code",
   "execution_count": 14,
   "metadata": {},
   "outputs": [
    {
     "name": "stdout",
     "output_type": "stream",
     "text": [
      "Значення вбудованої константи None:\n",
      "None\n",
      "\n",
      "Сума елементів списку: 15\n",
      "\n",
      "Довжина списку: 5\n",
      "\n",
      "Найбільший елемент у списку: 5\n",
      "Найменший елемент у списку: 1\n",
      "\n",
      "Абсолютне значення числа: 10\n",
      "\n",
      "Результат піднесення до степеня: 8\n",
      "\n",
      "Округлене значення: 3.14\n"
     ]
    }
   ],
   "source": [
    "# Вбудована константа\n",
    "print(\"Значення вбудованої константи None:\")\n",
    "print(None)\n",
    "\n",
    "# Використання вбудованої функції sum()\n",
    "numbers = [1, 2, 3, 4, 5]\n",
    "print(\"\\nСума елементів списку:\", sum(numbers))\n",
    "\n",
    "# Використання вбудованої функції len()\n",
    "print(\"\\nДовжина списку:\", len(numbers))\n",
    "\n",
    "# Використання вбудованої функції max() і min()\n",
    "print(\"\\nНайбільший елемент у списку:\", max(numbers))\n",
    "print(\"Найменший елемент у списку:\", min(numbers))\n",
    "\n",
    "# Використання вбудованої функції abs()\n",
    "negative_number = -10\n",
    "print(\"\\nАбсолютне значення числа:\", abs(negative_number))\n",
    "\n",
    "# Використання вбудованої функції pow()\n",
    "base = 2\n",
    "exponent = 3\n",
    "print(\"\\nРезультат піднесення до степеня:\", pow(base, exponent))\n",
    "\n",
    "# Використання вбудованої функції round()\n",
    "float_number = 3.14159\n",
    "print(\"\\nОкруглене значення:\", round(float_number, 2))\n"
   ]
  }
 ],
 "metadata": {
  "kernelspec": {
   "display_name": "Python 3",
   "language": "python",
   "name": "python3"
  },
  "language_info": {
   "codemirror_mode": {
    "name": "ipython",
    "version": 3
   },
   "file_extension": ".py",
   "mimetype": "text/x-python",
   "name": "python",
   "nbconvert_exporter": "python",
   "pygments_lexer": "ipython3",
   "version": "3.12.5"
  }
 },
 "nbformat": 4,
 "nbformat_minor": 2
}
