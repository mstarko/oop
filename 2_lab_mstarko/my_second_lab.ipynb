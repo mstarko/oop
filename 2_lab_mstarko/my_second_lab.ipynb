{
 "cells": [
  {
   "cell_type": "code",
   "execution_count": 1,
   "metadata": {},
   "outputs": [
    {
     "name": "stdout",
     "output_type": "stream",
     "text": [
      "Це стрічка!\n"
     ]
    }
   ],
   "source": [
    "a = \"Це стрічка!\"\n",
    "print(a)"
   ]
  },
  {
   "cell_type": "code",
   "execution_count": 2,
   "metadata": {},
   "outputs": [
    {
     "name": "stdout",
     "output_type": "stream",
     "text": [
      "Це стрічка! Це також стрічка \n",
      "Стрічка \n",
      "яка складається\n",
      "з багатьох рядків\n",
      "\n"
     ]
    }
   ],
   "source": [
    "b = 'Це також стрічка'\n",
    "c = '''\n",
    "Стрічка \n",
    "яка складається\n",
    "з багатьох рядків\n",
    "'''\n",
    "print(a, b, c)"
   ]
  },
  {
   "cell_type": "code",
   "execution_count": 3,
   "metadata": {},
   "outputs": [
    {
     "name": "stdout",
     "output_type": "stream",
     "text": [
      "<class 'str'>\n",
      "ЦЕ СТРІЧКА!\n"
     ]
    }
   ],
   "source": [
    "print(type(a))\n",
    "print(a.upper())"
   ]
  },
  {
   "cell_type": "code",
   "execution_count": 4,
   "metadata": {},
   "outputs": [
    {
     "name": "stdout",
     "output_type": "stream",
     "text": [
      "36\n",
      "Це зчеплення стрічок 33\n",
      "Це вже математична операція додавання чисел 6\n"
     ]
    }
   ],
   "source": [
    "a = \"3\"\n",
    "b = \"6\"\n",
    "print(a + b)\n",
    "c = 3 # це вже цифра\n",
    "print(\"Це зчеплення стрічок\", a + str(c))\n",
    "print(\"Це вже математична операція додавання чисел\", int(a) + c)"
   ]
  }
 ],
 "metadata": {
  "kernelspec": {
   "display_name": "Python 3",
   "language": "python",
   "name": "python3"
  },
  "language_info": {
   "codemirror_mode": {
    "name": "ipython",
    "version": 3
   },
   "file_extension": ".py",
   "mimetype": "text/x-python",
   "name": "python",
   "nbconvert_exporter": "python",
   "pygments_lexer": "ipython3",
   "version": "3.12.5"
  }
 },
 "nbformat": 4,
 "nbformat_minor": 2
}
