{
 "cells": [
  {
   "cell_type": "code",
   "execution_count": 5,
   "metadata": {},
   "outputs": [
    {
     "data": {
      "text/plain": [
       "<module 'O_O_O' from 'c:\\\\Users\\\\User\\\\Documents\\\\oop\\\\3_lab_mstarko\\\\O_O_O.py'>"
      ]
     },
     "execution_count": 5,
     "metadata": {},
     "output_type": "execute_result"
    }
   ],
   "source": [
    "###### Перезавантаження нашого класу через імпорти\n",
    "import importlib\n",
    "import O_O_O\n",
    "\n",
    "importlib.reload(O_O_O)\n",
    "###### Кожного разу запускаємо цю комірку коли роимо зміни у класі"
   ]
  },
  {
   "cell_type": "code",
   "execution_count": 6,
   "metadata": {},
   "outputs": [
    {
     "name": "stdout",
     "output_type": "stream",
     "text": [
      "здоров, мене звати марк, мені 19 років, і я живу в місті Львів.\n"
     ]
    }
   ],
   "source": [
    "from O_O_O import Person\n",
    "\n",
    "# Тепер ти можеш створювати об'єкти класу Person\n",
    "person = Person(\"марк\", 19, \"Львів\")\n",
    "person.introduce()\n"
   ]
  },
  {
   "cell_type": "code",
   "execution_count": 3,
   "metadata": {},
   "outputs": [
    {
     "name": "stdout",
     "output_type": "stream",
     "text": [
      "red\n",
      "Ford\n",
      "4\n"
     ]
    }
   ],
   "source": [
    "class Car:\n",
    "    # класовий атрибут\n",
    "    wheels = 4\n",
    "\n",
    "    def __init__(self, color, model):\n",
    "        # екземплярні атрибути\n",
    "        self.color = color\n",
    "        self.model = model\n",
    "\n",
    "# створення об'єктів класу Car\n",
    "car1 = Car(\"red\", \"Toyota\")\n",
    "car2 = Car(\"blue\", \"Ford\")\n",
    "\n",
    "print(car1.color)  # red\n",
    "print(car2.model)  # Ford\n",
    "print(Car.wheels)  # 4 (доступ до класового атрибуту через ім'я класу)\n"
   ]
  },
  {
   "cell_type": "code",
   "execution_count": 4,
   "metadata": {},
   "outputs": [
    {
     "name": "stdout",
     "output_type": "stream",
     "text": [
      "Alice\n",
      "30\n",
      "35\n"
     ]
    }
   ],
   "source": [
    "class Person:\n",
    "    def __init__(self, name, age):\n",
    "        self._name = name\n",
    "        self._age = age\n",
    "\n",
    "    # Геттер для властивості name\n",
    "    @property\n",
    "    def name(self):\n",
    "        return self._name\n",
    "\n",
    "    # Геттер для властивості age\n",
    "    @property\n",
    "    def age(self):\n",
    "        return self._age\n",
    "\n",
    "    # Сеттер для властивості age\n",
    "    @age.setter\n",
    "    def age(self, value):\n",
    "        if value < 0:\n",
    "            raise ValueError(\"Age cannot be negative\")\n",
    "        self._age = value\n",
    "\n",
    "# Використання класу Person\n",
    "person = Person(\"Alice\", 30)\n",
    "print(person.name)  # Alice\n",
    "print(person.age)   # 30\n",
    "\n",
    "person.age = 35     # Зміна значення age через сеттер\n",
    "print(person.age)   # 35\n",
    "\n",
    "# person.age = -5  # Викине помилку: Age cannot be negative\n"
   ]
  }
 ],
 "metadata": {
  "kernelspec": {
   "display_name": "Python 3",
   "language": "python",
   "name": "python3"
  },
  "language_info": {
   "codemirror_mode": {
    "name": "ipython",
    "version": 3
   },
   "file_extension": ".py",
   "mimetype": "text/x-python",
   "name": "python",
   "nbconvert_exporter": "python",
   "pygments_lexer": "ipython3",
   "version": "3.12.5"
  }
 },
 "nbformat": 4,
 "nbformat_minor": 2
}
