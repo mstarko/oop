{
 "cells": [
  {
   "cell_type": "code",
   "execution_count": 5,
   "metadata": {},
   "outputs": [
    {
     "data": {
      "text/plain": [
       "<module 'O_O_O' from 'c:\\\\Users\\\\User\\\\Documents\\\\oop\\\\3_lab_mstarko\\\\O_O_O.py'>"
      ]
     },
     "execution_count": 5,
     "metadata": {},
     "output_type": "execute_result"
    }
   ],
   "source": [
    "###### Перезавантаження нашого класу через імпорти\n",
    "import importlib\n",
    "import O_O_O\n",
    "\n",
    "importlib.reload(O_O_O)\n",
    "###### Кожного разу запускаємо цю комірку коли роимо зміни у класі"
   ]
  },
  {
   "cell_type": "code",
   "execution_count": 6,
   "metadata": {},
   "outputs": [
    {
     "name": "stdout",
     "output_type": "stream",
     "text": [
      "здоров, мене звати марк, мені 19 років, і я живу в місті Львів.\n"
     ]
    }
   ],
   "source": [
    "from O_O_O import Person\n",
    "\n",
    "# Тепер ти можеш створювати об'єкти класу Person\n",
    "person = Person(\"марк\", 19, \"Львів\")\n",
    "person.introduce()\n"
   ]
  },
  {
   "cell_type": "code",
   "execution_count": 3,
   "metadata": {},
   "outputs": [
    {
     "name": "stdout",
     "output_type": "stream",
     "text": [
      "red\n",
      "Ford\n",
      "4\n"
     ]
    }
   ],
   "source": [
    "class Car:\n",
    "    # класовий атрибут\n",
    "    wheels = 4\n",
    "\n",
    "    def __init__(self, color, model):\n",
    "        # екземплярні атрибути\n",
    "        self.color = color\n",
    "        self.model = model\n",
    "\n",
    "# створення об'єктів класу Car\n",
    "car1 = Car(\"red\", \"Toyota\")\n",
    "car2 = Car(\"blue\", \"Ford\")\n",
    "\n",
    "print(car1.color)  # red\n",
    "print(car2.model)  # Ford\n",
    "print(Car.wheels)  # 4 (доступ до класового атрибуту через ім'я класу)\n"
   ]
  },
  {
   "cell_type": "code",
   "execution_count": 4,
   "metadata": {},
   "outputs": [
    {
     "name": "stdout",
     "output_type": "stream",
     "text": [
      "Alice\n",
      "30\n",
      "35\n"
     ]
    }
   ],
   "source": [
    "class Person:\n",
    "    def __init__(self, name, age):\n",
    "        self._name = name\n",
    "        self._age = age\n",
    "\n",
    "    # Геттер для властивості name\n",
    "    @property\n",
    "    def name(self):\n",
    "        return self._name\n",
    "\n",
    "    # Геттер для властивості age\n",
    "    @property\n",
    "    def age(self):\n",
    "        return self._age\n",
    "\n",
    "    # Сеттер для властивості age\n",
    "    @age.setter\n",
    "    def age(self, value):\n",
    "        if value < 0:\n",
    "            raise ValueError(\"Age cannot be negative\")\n",
    "        self._age = value\n",
    "\n",
    "# Використання класу Person\n",
    "person = Person(\"Alice\", 30)\n",
    "print(person.name)  # Alice\n",
    "print(person.age)   # 30\n",
    "\n",
    "person.age = 35     # Зміна значення age через сеттер\n",
    "print(person.age)   # 35\n",
    "\n",
    "# person.age = -5  # Викине помилку: Age cannot be negative\n"
   ]
  },
  {
   "cell_type": "markdown",
   "metadata": {},
   "source": [
    "методи"
   ]
  },
  {
   "cell_type": "code",
   "execution_count": 4,
   "metadata": {},
   "outputs": [],
   "source": [
    "class Phone:\n",
    "    # тут ми динамічно придумували які атрибути буде мати клас\n",
    "    pass\n",
    "\n",
    "class PhoneWithAttributes:\n",
    "    def __init__(self, vendor, model, ram:int, made_in = None):\n",
    "        \"\"\"Це є конструктор для створення обєкту телефон\n",
    "        \"\"\"\n",
    "        # Цей клас має наперед визначені атрибути\n",
    "        self.vendor = vendor # Публічні атрибути\n",
    "        self.model = model\n",
    "        self.ram = ram\n",
    "        self.made_in = made_in\n",
    "        self._reserved_memory:float = round(0.1 * int(ram), 2) # Це є захищений атрибут\n",
    "        self.__privat_message = \"Всі телефони зроблені в Китаї\"\n",
    "        self._video_calls = 0\n",
    "\n",
    "    @property\n",
    "    def get_availabl_memory(self):\n",
    "        return self.ram - self._reserved_memory\n",
    "    \n",
    "    @property\n",
    "    def secret(self):\n",
    "        return f\"Ось наш секрет: {self.__privat_message}\"\n",
    "    \n",
    "    def call(self, phone_number):\n",
    "        print(f\"Набираємо номер телефона: {phone_number}\")\n",
    "        self.ram -= 0.5\n",
    "        print(f\"Програма опрацювання відеодзвінка, тепер доступно : {self.ram} оперативки\")\n",
    "        self._video_calls += 1\n",
    "        return True\n",
    "    \n",
    "    def get_call(self):\n",
    "        print(\"Отримали виклик від когось\")\n",
    "\n",
    "    def stop_call(self):\n",
    "        if self._video_calls > 0:\n",
    "            self.ram += 0.5\n",
    "            self._video_calls -= 1\n",
    "            return True\n",
    "        return False"
   ]
  },
  {
   "cell_type": "code",
   "execution_count": 7,
   "metadata": {},
   "outputs": [
    {
     "name": "stdout",
     "output_type": "stream",
     "text": [
      "10\n",
      "6\n",
      "30\n",
      "10.0\n",
      "0\n"
     ]
    }
   ],
   "source": [
    "class Calculator:\n",
    "    def __init__(self):\n",
    "        # Ініціалізуємо клас\n",
    "        self.result = 0\n",
    "\n",
    "    def add(self, number):\n",
    "        \"\"\"Метод для додавання числа до результату.\"\"\"\n",
    "        self.result += number\n",
    "        return self.result\n",
    "\n",
    "    def subtract(self, number):\n",
    "        \"\"\"Метод для віднімання числа від результату.\"\"\"\n",
    "        self.result -= number\n",
    "        return self.result\n",
    "\n",
    "    def multiply(self, number):\n",
    "        \"\"\"Метод для множення результату на число.\"\"\"\n",
    "        self.result *= number\n",
    "        return self.result\n",
    "\n",
    "    def divide(self, number):\n",
    "        \"\"\"Метод для ділення результату на число.\"\"\"\n",
    "        if number == 0:\n",
    "            print(\"Ділення на нуль неможливе.\")\n",
    "            return None\n",
    "        self.result /= number\n",
    "        return self.result\n",
    "\n",
    "    def reset(self):\n",
    "        \"\"\"Скидання результату до 0.\"\"\"\n",
    "        self.result = 0\n",
    "        return self.result\n",
    "\n",
    "# Приклад використання\n",
    "calc = Calculator()\n",
    "print(calc.add(10))      # Додає 10 до результату\n",
    "print(calc.subtract(4))   # Віднімає 4 від результату\n",
    "print(calc.multiply(5))   # Множить результат на 5\n",
    "print(calc.divide(3))     # Ділить результат на 3\n",
    "print(calc.reset())       # Скидає результат до 0\n"
   ]
  },
  {
   "cell_type": "code",
   "execution_count": 8,
   "metadata": {},
   "outputs": [
    {
     "name": "stdout",
     "output_type": "stream",
     "text": [
      "Привіт, мене звати Олександр!\n",
      "True\n",
      "З днем народження, Олександр! Тепер вам 21 років.\n"
     ]
    }
   ],
   "source": [
    "class Person:\n",
    "    def __init__(self, name, age):\n",
    "        \"\"\"Ініціалізуємо клас із двома атрибутами: ім'я та вік.\"\"\"\n",
    "        self.name = name\n",
    "        self.age = age\n",
    "\n",
    "    def greet(self):\n",
    "        \"\"\"Метод для вітання, що повертає рядок з іменем людини.\"\"\"\n",
    "        return f\"Привіт, мене звати {self.name}!\"\n",
    "\n",
    "    def is_adult(self):\n",
    "        \"\"\"Метод для перевірки, чи є людина повнолітньою.\"\"\"\n",
    "        return self.age >= 18\n",
    "\n",
    "    def birthday(self):\n",
    "        \"\"\"Метод для збільшення віку людини на 1 рік.\"\"\"\n",
    "        self.age += 1\n",
    "        return f\"З днем народження, {self.name}! Тепер вам {self.age} років.\"\n",
    "\n",
    "# Приклад використання\n",
    "person1 = Person(\"Олександр\", 20)\n",
    "print(person1.greet())           # Привітання\n",
    "print(person1.is_adult())        # Перевірка на повноліття\n",
    "print(person1.birthday())        # Додає 1 рік до віку та вітає\n"
   ]
  },
  {
   "cell_type": "code",
   "execution_count": 9,
   "metadata": {},
   "outputs": [
    {
     "name": "stdout",
     "output_type": "stream",
     "text": [
      "Дальність польоту снаряду: 254.841997961264 м\n",
      "Максимальна висота польоту: 63.71049949031599 м\n",
      "Попадання у ціль на 200 м: False\n"
     ]
    }
   ],
   "source": [
    "import math\n",
    "\n",
    "class Projectile:\n",
    "    def __init__(self, velocity, angle):\n",
    "        \"\"\"Ініціалізуємо початкову швидкість (м/с) і кут запуску (градуси).\"\"\"\n",
    "        self.velocity = velocity\n",
    "        self.angle = math.radians(angle)  # Перетворюємо кут у радіани для обчислень\n",
    "\n",
    "    def calculate_range(self):\n",
    "        \"\"\"Розраховуємо дальність польоту снаряду (м).\"\"\"\n",
    "        g = 9.81  # Прискорення вільного падіння (м/с²)\n",
    "        range = (self.velocity ** 2 * math.sin(2 * self.angle)) / g\n",
    "        return range\n",
    "\n",
    "    def calculate_height(self):\n",
    "        \"\"\"Розраховуємо максимальну висоту польоту (м).\"\"\"\n",
    "        g = 9.81\n",
    "        height = (self.velocity ** 2 * math.sin(self.angle) ** 2) / (2 * g)\n",
    "        return height\n",
    "\n",
    "    def hit_target(self, target_distance, tolerance=1.0):\n",
    "        \"\"\"\n",
    "        Перевіряє, чи влучає снаряд у ціль на заданій відстані.\n",
    "        \n",
    "        Parameters:\n",
    "            target_distance: відстань до цілі (м)\n",
    "            tolerance: допустима похибка для попадання (м)\n",
    "        \n",
    "        Returns:\n",
    "            True, якщо снаряд влучає в ціль в межах допустимої похибки, інакше False.\n",
    "        \"\"\"\n",
    "        actual_range = self.calculate_range()\n",
    "        return abs(actual_range - target_distance) <= tolerance\n",
    "\n",
    "# Приклад використання\n",
    "projectile = Projectile(velocity=50, angle=45)\n",
    "\n",
    "print(\"Дальність польоту снаряду:\", projectile.calculate_range(), \"м\")\n",
    "print(\"Максимальна висота польоту:\", projectile.calculate_height(), \"м\")\n",
    "print(\"Попадання у ціль на 200 м:\", projectile.hit_target(target_distance=200))\n"
   ]
  }
 ],
 "metadata": {
  "kernelspec": {
   "display_name": "Python 3",
   "language": "python",
   "name": "python3"
  },
  "language_info": {
   "codemirror_mode": {
    "name": "ipython",
    "version": 3
   },
   "file_extension": ".py",
   "mimetype": "text/x-python",
   "name": "python",
   "nbconvert_exporter": "python",
   "pygments_lexer": "ipython3",
   "version": "3.12.5"
  }
 },
 "nbformat": 4,
 "nbformat_minor": 2
}
