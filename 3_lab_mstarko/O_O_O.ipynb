{
 "cells": [
  {
   "cell_type": "code",
   "execution_count": 5,
   "metadata": {},
   "outputs": [
    {
     "data": {
      "text/plain": [
       "<module 'O_O_O' from 'c:\\\\Users\\\\User\\\\Documents\\\\oop\\\\3_lab_mstarko\\\\O_O_O.py'>"
      ]
     },
     "execution_count": 5,
     "metadata": {},
     "output_type": "execute_result"
    }
   ],
   "source": [
    "###### Перезавантаження нашого класу через імпорти\n",
    "import importlib\n",
    "import O_O_O\n",
    "\n",
    "importlib.reload(O_O_O)\n",
    "###### Кожного разу запускаємо цю комірку коли роимо зміни у класі"
   ]
  },
  {
   "cell_type": "code",
   "execution_count": 6,
   "metadata": {},
   "outputs": [
    {
     "name": "stdout",
     "output_type": "stream",
     "text": [
      "здоров, мене звати марк, мені 19 років, і я живу в місті Львів.\n"
     ]
    }
   ],
   "source": [
    "from O_O_O import Person\n",
    "\n",
    "# Тепер ти можеш створювати об'єкти класу Person\n",
    "person = Person(\"марк\", 19, \"Львів\")\n",
    "person.introduce()\n"
   ]
  }
 ],
 "metadata": {
  "kernelspec": {
   "display_name": "Python 3",
   "language": "python",
   "name": "python3"
  },
  "language_info": {
   "codemirror_mode": {
    "name": "ipython",
    "version": 3
   },
   "file_extension": ".py",
   "mimetype": "text/x-python",
   "name": "python",
   "nbconvert_exporter": "python",
   "pygments_lexer": "ipython3",
   "version": "3.12.5"
  }
 },
 "nbformat": 4,
 "nbformat_minor": 2
}
